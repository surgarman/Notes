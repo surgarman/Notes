{
 "cells": [
  {
   "cell_type": "code",
   "execution_count": 1,
   "metadata": {},
   "outputs": [],
   "source": [
    "#我们通过数据分析的得出了甜品店是最佳选择"
   ]
  },
  {
   "cell_type": "code",
   "execution_count": 2,
   "metadata": {},
   "outputs": [
    {
     "data": {
      "text/plain": [
       "'\\n在qgis中做将上海划分成格网空间，结合python辅助做空间指标评价，得到餐饮选址位置。\\n\\n'"
      ]
     },
     "execution_count": 2,
     "metadata": {},
     "output_type": "execute_result"
    }
   ],
   "source": [
    "'''\n",
    "在qgis中做将上海划分成格网空间，结合python辅助做空间指标评价，得到餐饮选址位置。\n",
    "\n",
    "'''"
   ]
  },
  {
   "cell_type": "code",
   "execution_count": 2,
   "metadata": {},
   "outputs": [],
   "source": [
    "import numpy as np\n",
    "import pandas as pd\n",
    "import matplotlib.pyplot as plt\n",
    "%matplotlib inline\n",
    "\n",
    "plt.rcParams['font.sans-serif']=['SimHei']\n",
    "#⽤来正常显示中⽂标签\n",
    "plt.rcParams['axes.unicode_minus']=False \n",
    "#⽤来正常显示负号 #有中⽂出现的情况，需要u'内容'"
   ]
  },
  {
   "cell_type": "code",
   "execution_count": 3,
   "metadata": {},
   "outputs": [],
   "source": [
    "data = pd.read_excel('上海餐饮数据.xlsx')"
   ]
  },
  {
   "cell_type": "code",
   "execution_count": 4,
   "metadata": {},
   "outputs": [
    {
     "data": {
      "text/html": [
       "<div>\n",
       "<style scoped>\n",
       "    .dataframe tbody tr th:only-of-type {\n",
       "        vertical-align: middle;\n",
       "    }\n",
       "\n",
       "    .dataframe tbody tr th {\n",
       "        vertical-align: top;\n",
       "    }\n",
       "\n",
       "    .dataframe thead th {\n",
       "        text-align: right;\n",
       "    }\n",
       "</style>\n",
       "<table border=\"1\" class=\"dataframe\">\n",
       "  <thead>\n",
       "    <tr style=\"text-align: right;\">\n",
       "      <th></th>\n",
       "      <th>类别</th>\n",
       "      <th>行政区</th>\n",
       "      <th>点评数</th>\n",
       "      <th>口味</th>\n",
       "      <th>环境</th>\n",
       "      <th>服务</th>\n",
       "      <th>人均消费</th>\n",
       "      <th>城市</th>\n",
       "      <th>Lng</th>\n",
       "      <th>Lat</th>\n",
       "    </tr>\n",
       "  </thead>\n",
       "  <tbody>\n",
       "    <tr>\n",
       "      <td>0</td>\n",
       "      <td>烧烤</td>\n",
       "      <td>浦东新区</td>\n",
       "      <td>176</td>\n",
       "      <td>8.0</td>\n",
       "      <td>8.6</td>\n",
       "      <td>7.9</td>\n",
       "      <td>124</td>\n",
       "      <td>上海市</td>\n",
       "      <td>121.967860</td>\n",
       "      <td>30.884477</td>\n",
       "    </tr>\n",
       "    <tr>\n",
       "      <td>1</td>\n",
       "      <td>美食</td>\n",
       "      <td>闵行区</td>\n",
       "      <td>2</td>\n",
       "      <td>6.1</td>\n",
       "      <td>6.5</td>\n",
       "      <td>6.3</td>\n",
       "      <td>0</td>\n",
       "      <td>上海市</td>\n",
       "      <td>121.967781</td>\n",
       "      <td>30.883818</td>\n",
       "    </tr>\n",
       "    <tr>\n",
       "      <td>2</td>\n",
       "      <td>粤菜</td>\n",
       "      <td>浦东新区</td>\n",
       "      <td>141</td>\n",
       "      <td>6.7</td>\n",
       "      <td>7.2</td>\n",
       "      <td>6.6</td>\n",
       "      <td>141</td>\n",
       "      <td>上海市</td>\n",
       "      <td>121.933142</td>\n",
       "      <td>30.893224</td>\n",
       "    </tr>\n",
       "    <tr>\n",
       "      <td>3</td>\n",
       "      <td>海鲜</td>\n",
       "      <td>浦东新区</td>\n",
       "      <td>76</td>\n",
       "      <td>7.2</td>\n",
       "      <td>7.2</td>\n",
       "      <td>7.3</td>\n",
       "      <td>148</td>\n",
       "      <td>上海市</td>\n",
       "      <td>121.926062</td>\n",
       "      <td>30.899868</td>\n",
       "    </tr>\n",
       "    <tr>\n",
       "      <td>4</td>\n",
       "      <td>烧烤</td>\n",
       "      <td>浦东新区</td>\n",
       "      <td>600</td>\n",
       "      <td>7.2</td>\n",
       "      <td>7.6</td>\n",
       "      <td>7.0</td>\n",
       "      <td>143</td>\n",
       "      <td>上海市</td>\n",
       "      <td>121.925877</td>\n",
       "      <td>30.901100</td>\n",
       "    </tr>\n",
       "  </tbody>\n",
       "</table>\n",
       "</div>"
      ],
      "text/plain": [
       "   类别    行政区  点评数   口味   环境   服务  人均消费   城市         Lng        Lat\n",
       "0  烧烤   浦东新区  176  8.0  8.6  7.9   124  上海市  121.967860  30.884477\n",
       "1  美食    闵行区    2  6.1  6.5  6.3     0  上海市  121.967781  30.883818\n",
       "2  粤菜   浦东新区  141  6.7  7.2  6.6   141  上海市  121.933142  30.893224\n",
       "3  海鲜   浦东新区   76  7.2  7.2  7.3   148  上海市  121.926062  30.899868\n",
       "4  烧烤   浦东新区  600  7.2  7.6  7.0   143  上海市  121.925877  30.901100"
      ]
     },
     "execution_count": 4,
     "metadata": {},
     "output_type": "execute_result"
    }
   ],
   "source": [
    "data.head(5)"
   ]
  },
  {
   "cell_type": "code",
   "execution_count": 7,
   "metadata": {},
   "outputs": [],
   "source": [
    "df  =  data[data['类别']=='甜点']"
   ]
  },
  {
   "cell_type": "code",
   "execution_count": 9,
   "metadata": {},
   "outputs": [],
   "source": [
    "df.to_csv('甜点.csv')"
   ]
  },
  {
   "cell_type": "code",
   "execution_count": 7,
   "metadata": {},
   "outputs": [],
   "source": [
    "dealdata = pd.read_excel('处理后的数据.xlsx',sheet_name=0)"
   ]
  },
  {
   "cell_type": "code",
   "execution_count": 9,
   "metadata": {},
   "outputs": [
    {
     "name": "stdout",
     "output_type": "stream",
     "text": [
      "<class 'pandas.core.frame.DataFrame'>\n",
      "RangeIndex: 7222 entries, 0 to 7221\n",
      "Data columns (total 7 columns):\n",
      "wkt_geom    7222 non-null object\n",
      "number      7222 non-null int64\n",
      "length      7222 non-null float64\n",
      "cy_count    2327 non-null float64\n",
      "td_count    1119 non-null float64\n",
      "lng         7222 non-null float64\n",
      "lat         7222 non-null float64\n",
      "dtypes: float64(5), int64(1), object(1)\n",
      "memory usage: 395.1+ KB\n"
     ]
    }
   ],
   "source": [
    "dealdata.info()"
   ]
  },
  {
   "cell_type": "code",
   "execution_count": 10,
   "metadata": {},
   "outputs": [],
   "source": [
    "#将空值填充上0"
   ]
  },
  {
   "cell_type": "code",
   "execution_count": 16,
   "metadata": {},
   "outputs": [],
   "source": [
    "dealdata.fillna(0,inplace=True)"
   ]
  },
  {
   "cell_type": "code",
   "execution_count": 17,
   "metadata": {},
   "outputs": [],
   "source": [
    "#指标统计 标准化"
   ]
  },
  {
   "cell_type": "code",
   "execution_count": 23,
   "metadata": {},
   "outputs": [],
   "source": [
    "df2 = dealdata"
   ]
  },
  {
   "cell_type": "code",
   "execution_count": 24,
   "metadata": {},
   "outputs": [
    {
     "data": {
      "text/plain": [
       "Index(['wkt_geom', 'number', 'length', 'cy_count', 'td_count', 'lng', 'lat'], dtype='object')"
      ]
     },
     "execution_count": 24,
     "metadata": {},
     "output_type": "execute_result"
    }
   ],
   "source": [
    "df2.columns"
   ]
  },
  {
   "cell_type": "code",
   "execution_count": 25,
   "metadata": {},
   "outputs": [],
   "source": [
    "#人口密度  道路密度 餐饮热度  同类竞品\n",
    "#综合指标 = 人口密度指标*0.4 + 餐饮热度指标*0.3 + 道路密度指标*0.2 +同类竞品指标*0.1"
   ]
  },
  {
   "cell_type": "code",
   "execution_count": 34,
   "metadata": {},
   "outputs": [],
   "source": [
    "df2['人口密度标准化'] =  (df2['number']-df2['number'].min()) / (df2['number'].max()-df2['number'].min())\n",
    "df2['道路密度标准化'] =  (df2['length']-df2['length'].min()) / (df2['length'].max()-df2['length'].min())\n",
    "df2['餐饮热度标准化'] =  (df2['cy_count']-df2['cy_count'].min()) / (df2['cy_count'].max()-df2['cy_count'].min())\n",
    "df2['同类竞品标准化'] =  (df2['td_count'].max()-df2['td_count']) / (df2['td_count'].max()-df2['td_count'].min())"
   ]
  },
  {
   "cell_type": "code",
   "execution_count": 35,
   "metadata": {},
   "outputs": [],
   "source": [
    "df2['综合指标'] = df2['人口密度标准化']*0.4 + df2['道路密度标准化']*0.3 +  df2['餐饮热度标准化']*0.2 + df2['同类竞品标准化']*0.1"
   ]
  },
  {
   "cell_type": "code",
   "execution_count": 38,
   "metadata": {},
   "outputs": [],
   "source": [
    "df_finall = df2.sort_values('综合指标',ascending=False).reset_index()"
   ]
  },
  {
   "cell_type": "code",
   "execution_count": 41,
   "metadata": {},
   "outputs": [
    {
     "data": {
      "text/html": [
       "<div>\n",
       "<style scoped>\n",
       "    .dataframe tbody tr th:only-of-type {\n",
       "        vertical-align: middle;\n",
       "    }\n",
       "\n",
       "    .dataframe tbody tr th {\n",
       "        vertical-align: top;\n",
       "    }\n",
       "\n",
       "    .dataframe thead th {\n",
       "        text-align: right;\n",
       "    }\n",
       "</style>\n",
       "<table border=\"1\" class=\"dataframe\">\n",
       "  <thead>\n",
       "    <tr style=\"text-align: right;\">\n",
       "      <th></th>\n",
       "      <th>index</th>\n",
       "      <th>wkt_geom</th>\n",
       "      <th>number</th>\n",
       "      <th>length</th>\n",
       "      <th>cy_count</th>\n",
       "      <th>td_count</th>\n",
       "      <th>lng</th>\n",
       "      <th>lat</th>\n",
       "      <th>人口密度标准化</th>\n",
       "      <th>道路密度标准化</th>\n",
       "      <th>餐饮热度标准化</th>\n",
       "      <th>同类竞品标准化</th>\n",
       "      <th>综合指标</th>\n",
       "    </tr>\n",
       "  </thead>\n",
       "  <tbody>\n",
       "    <tr>\n",
       "      <td>0</td>\n",
       "      <td>4372</td>\n",
       "      <td>Point (121.47311741266591412 31.23824359227818...</td>\n",
       "      <td>35036</td>\n",
       "      <td>15483.180214</td>\n",
       "      <td>1244.0</td>\n",
       "      <td>309.0</td>\n",
       "      <td>121.473117</td>\n",
       "      <td>31.238244</td>\n",
       "      <td>0.820688</td>\n",
       "      <td>0.528626</td>\n",
       "      <td>1.000000</td>\n",
       "      <td>0.000000</td>\n",
       "      <td>0.686863</td>\n",
       "    </tr>\n",
       "    <tr>\n",
       "      <td>1</td>\n",
       "      <td>4301</td>\n",
       "      <td>Point (121.45226984866562248 31.22897291834404...</td>\n",
       "      <td>36929</td>\n",
       "      <td>14010.454617</td>\n",
       "      <td>1049.0</td>\n",
       "      <td>237.0</td>\n",
       "      <td>121.452270</td>\n",
       "      <td>31.228973</td>\n",
       "      <td>0.865030</td>\n",
       "      <td>0.478344</td>\n",
       "      <td>0.843248</td>\n",
       "      <td>0.233010</td>\n",
       "      <td>0.681466</td>\n",
       "    </tr>\n",
       "    <tr>\n",
       "      <td>2</td>\n",
       "      <td>4826</td>\n",
       "      <td>Point (121.47210003973017933 31.30138099960866...</td>\n",
       "      <td>42691</td>\n",
       "      <td>15497.177842</td>\n",
       "      <td>149.0</td>\n",
       "      <td>39.0</td>\n",
       "      <td>121.472100</td>\n",
       "      <td>31.301381</td>\n",
       "      <td>1.000000</td>\n",
       "      <td>0.529104</td>\n",
       "      <td>0.119775</td>\n",
       "      <td>0.873786</td>\n",
       "      <td>0.670065</td>\n",
       "    </tr>\n",
       "    <tr>\n",
       "      <td>3</td>\n",
       "      <td>4441</td>\n",
       "      <td>Point (121.48347068197051613 31.24738756072670...</td>\n",
       "      <td>40623</td>\n",
       "      <td>14089.364209</td>\n",
       "      <td>362.0</td>\n",
       "      <td>41.0</td>\n",
       "      <td>121.483471</td>\n",
       "      <td>31.247388</td>\n",
       "      <td>0.951559</td>\n",
       "      <td>0.481038</td>\n",
       "      <td>0.290997</td>\n",
       "      <td>0.867314</td>\n",
       "      <td>0.669866</td>\n",
       "    </tr>\n",
       "    <tr>\n",
       "      <td>4</td>\n",
       "      <td>4232</td>\n",
       "      <td>Point (121.45241685328390702 31.21995331098462...</td>\n",
       "      <td>36929</td>\n",
       "      <td>12104.466337</td>\n",
       "      <td>972.0</td>\n",
       "      <td>188.0</td>\n",
       "      <td>121.452417</td>\n",
       "      <td>31.219953</td>\n",
       "      <td>0.865030</td>\n",
       "      <td>0.413270</td>\n",
       "      <td>0.781350</td>\n",
       "      <td>0.391586</td>\n",
       "      <td>0.665422</td>\n",
       "    </tr>\n",
       "  </tbody>\n",
       "</table>\n",
       "</div>"
      ],
      "text/plain": [
       "   index                                           wkt_geom  number  \\\n",
       "0   4372  Point (121.47311741266591412 31.23824359227818...   35036   \n",
       "1   4301  Point (121.45226984866562248 31.22897291834404...   36929   \n",
       "2   4826  Point (121.47210003973017933 31.30138099960866...   42691   \n",
       "3   4441  Point (121.48347068197051613 31.24738756072670...   40623   \n",
       "4   4232  Point (121.45241685328390702 31.21995331098462...   36929   \n",
       "\n",
       "         length  cy_count  td_count         lng        lat   人口密度标准化  \\\n",
       "0  15483.180214    1244.0     309.0  121.473117  31.238244  0.820688   \n",
       "1  14010.454617    1049.0     237.0  121.452270  31.228973  0.865030   \n",
       "2  15497.177842     149.0      39.0  121.472100  31.301381  1.000000   \n",
       "3  14089.364209     362.0      41.0  121.483471  31.247388  0.951559   \n",
       "4  12104.466337     972.0     188.0  121.452417  31.219953  0.865030   \n",
       "\n",
       "    道路密度标准化   餐饮热度标准化   同类竞品标准化      综合指标  \n",
       "0  0.528626  1.000000  0.000000  0.686863  \n",
       "1  0.478344  0.843248  0.233010  0.681466  \n",
       "2  0.529104  0.119775  0.873786  0.670065  \n",
       "3  0.481038  0.290997  0.867314  0.669866  \n",
       "4  0.413270  0.781350  0.391586  0.665422  "
      ]
     },
     "execution_count": 41,
     "metadata": {},
     "output_type": "execute_result"
    }
   ],
   "source": [
    "df_finall.head(5)"
   ]
  },
  {
   "cell_type": "code",
   "execution_count": 42,
   "metadata": {},
   "outputs": [],
   "source": [
    "#制作空间散点图"
   ]
  },
  {
   "cell_type": "code",
   "execution_count": 43,
   "metadata": {},
   "outputs": [],
   "source": [
    "#——————————————————————————————————"
   ]
  },
  {
   "cell_type": "code",
   "execution_count": 44,
   "metadata": {},
   "outputs": [],
   "source": [
    "import warnings\n",
    "warnings.filterwarnings('ignore')\n",
    "\n",
    "from bokeh.plotting import figure,show,output_file\n",
    "from bokeh.models import ColumnDataSource\n",
    "\n",
    "from bokeh.models import HoverTool"
   ]
  },
  {
   "cell_type": "code",
   "execution_count": 47,
   "metadata": {},
   "outputs": [],
   "source": [
    "'''\n",
    "(3)绘图 制作空间散点图\n",
    "'''\n",
    "df_finall['size'] = df_finall['综合指标']*20\n",
    "df_finall['final_score']= df_finall['综合指标']\n",
    "df_finall['color'] = 'green'\n",
    "df_finall['color'].iloc[:10] = 'red'\n",
    "\n",
    "source = ColumnDataSource(df_finall)\n",
    "\n",
    "output_file('project.html')\n",
    "\n",
    "hover = HoverTool(tooltips=[('经度','@lng'),\n",
    "                            ('纬度','@lat'),\n",
    "                            ('最终得分','@final_score'),\n",
    "                            ])\n",
    "\n",
    "p = figure(plot_width = 800,plot_height = 800,\n",
    "           title = '空间散点图',\n",
    "           tools = [hover , 'box_select,reset,wheel_zoom,pan,crosshair'])\n",
    "\n",
    "p.square(x = 'lng',y = 'lat',source = source,\n",
    "        line_color = 'black',fill_alpha = 0.5,\n",
    "        size = 'size',color = 'color')\n",
    "\n",
    "show(p)"
   ]
  },
  {
   "cell_type": "code",
   "execution_count": null,
   "metadata": {},
   "outputs": [],
   "source": []
  }
 ],
 "metadata": {
  "kernelspec": {
   "display_name": "Python 3",
   "language": "python",
   "name": "python3"
  },
  "language_info": {
   "codemirror_mode": {
    "name": "ipython",
    "version": 3
   },
   "file_extension": ".py",
   "mimetype": "text/x-python",
   "name": "python",
   "nbconvert_exporter": "python",
   "pygments_lexer": "ipython3",
   "version": "3.7.4"
  }
 },
 "nbformat": 4,
 "nbformat_minor": 2
}
