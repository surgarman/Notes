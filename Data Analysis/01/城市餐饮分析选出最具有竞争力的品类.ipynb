{
 "cells": [
  {
   "cell_type": "code",
   "execution_count": 41,
   "metadata": {},
   "outputs": [],
   "source": [
    "import numpy as np\n",
    "import pandas as pd\n",
    "import matplotlib.pyplot as plt\n",
    "%matplotlib inline\n",
    "\n",
    "plt.rcParams['font.sans-serif']=['SimHei']\n",
    "#⽤来正常显示中⽂标签\n",
    "plt.rcParams['axes.unicode_minus']=False \n",
    "#⽤来正常显示负号 #有中⽂出现的情况，需要u'内容'"
   ]
  },
  {
   "cell_type": "code",
   "execution_count": 2,
   "metadata": {},
   "outputs": [],
   "source": [
    "data = pd.read_excel('上海餐饮数据.xlsx')"
   ]
  },
  {
   "cell_type": "code",
   "execution_count": 3,
   "metadata": {},
   "outputs": [
    {
     "name": "stdout",
     "output_type": "stream",
     "text": [
      "<class 'pandas.core.frame.DataFrame'>\n",
      "RangeIndex: 96398 entries, 0 to 96397\n",
      "Data columns (total 10 columns):\n",
      "类别      96258 non-null object\n",
      "行政区     96255 non-null object\n",
      "点评数     96398 non-null int64\n",
      "口味      96398 non-null float64\n",
      "环境      96398 non-null float64\n",
      "服务      96398 non-null float64\n",
      "人均消费    96398 non-null int64\n",
      "城市      96398 non-null object\n",
      "Lng     96398 non-null float64\n",
      "Lat     96398 non-null float64\n",
      "dtypes: float64(5), int64(2), object(3)\n",
      "memory usage: 7.4+ MB\n"
     ]
    }
   ],
   "source": [
    "data.info()"
   ]
  },
  {
   "cell_type": "code",
   "execution_count": 5,
   "metadata": {},
   "outputs": [
    {
     "data": {
      "text/html": [
       "<div>\n",
       "<style scoped>\n",
       "    .dataframe tbody tr th:only-of-type {\n",
       "        vertical-align: middle;\n",
       "    }\n",
       "\n",
       "    .dataframe tbody tr th {\n",
       "        vertical-align: top;\n",
       "    }\n",
       "\n",
       "    .dataframe thead th {\n",
       "        text-align: right;\n",
       "    }\n",
       "</style>\n",
       "<table border=\"1\" class=\"dataframe\">\n",
       "  <thead>\n",
       "    <tr style=\"text-align: right;\">\n",
       "      <th></th>\n",
       "      <th>类别</th>\n",
       "      <th>行政区</th>\n",
       "      <th>点评数</th>\n",
       "      <th>口味</th>\n",
       "      <th>环境</th>\n",
       "      <th>服务</th>\n",
       "      <th>人均消费</th>\n",
       "      <th>城市</th>\n",
       "      <th>Lng</th>\n",
       "      <th>Lat</th>\n",
       "    </tr>\n",
       "  </thead>\n",
       "  <tbody>\n",
       "    <tr>\n",
       "      <td>0</td>\n",
       "      <td>烧烤</td>\n",
       "      <td>浦东新区</td>\n",
       "      <td>176</td>\n",
       "      <td>8.0</td>\n",
       "      <td>8.6</td>\n",
       "      <td>7.9</td>\n",
       "      <td>124</td>\n",
       "      <td>上海市</td>\n",
       "      <td>121.967860</td>\n",
       "      <td>30.884477</td>\n",
       "    </tr>\n",
       "    <tr>\n",
       "      <td>1</td>\n",
       "      <td>美食</td>\n",
       "      <td>闵行区</td>\n",
       "      <td>2</td>\n",
       "      <td>6.1</td>\n",
       "      <td>6.5</td>\n",
       "      <td>6.3</td>\n",
       "      <td>0</td>\n",
       "      <td>上海市</td>\n",
       "      <td>121.967781</td>\n",
       "      <td>30.883818</td>\n",
       "    </tr>\n",
       "    <tr>\n",
       "      <td>2</td>\n",
       "      <td>粤菜</td>\n",
       "      <td>浦东新区</td>\n",
       "      <td>141</td>\n",
       "      <td>6.7</td>\n",
       "      <td>7.2</td>\n",
       "      <td>6.6</td>\n",
       "      <td>141</td>\n",
       "      <td>上海市</td>\n",
       "      <td>121.933142</td>\n",
       "      <td>30.893224</td>\n",
       "    </tr>\n",
       "    <tr>\n",
       "      <td>3</td>\n",
       "      <td>海鲜</td>\n",
       "      <td>浦东新区</td>\n",
       "      <td>76</td>\n",
       "      <td>7.2</td>\n",
       "      <td>7.2</td>\n",
       "      <td>7.3</td>\n",
       "      <td>148</td>\n",
       "      <td>上海市</td>\n",
       "      <td>121.926062</td>\n",
       "      <td>30.899868</td>\n",
       "    </tr>\n",
       "    <tr>\n",
       "      <td>4</td>\n",
       "      <td>烧烤</td>\n",
       "      <td>浦东新区</td>\n",
       "      <td>600</td>\n",
       "      <td>7.2</td>\n",
       "      <td>7.6</td>\n",
       "      <td>7.0</td>\n",
       "      <td>143</td>\n",
       "      <td>上海市</td>\n",
       "      <td>121.925877</td>\n",
       "      <td>30.901100</td>\n",
       "    </tr>\n",
       "    <tr>\n",
       "      <td>5</td>\n",
       "      <td>本菜</td>\n",
       "      <td>嘉定区</td>\n",
       "      <td>69</td>\n",
       "      <td>8.2</td>\n",
       "      <td>8.9</td>\n",
       "      <td>8.4</td>\n",
       "      <td>66</td>\n",
       "      <td>上海市</td>\n",
       "      <td>121.925866</td>\n",
       "      <td>30.906384</td>\n",
       "    </tr>\n",
       "    <tr>\n",
       "      <td>6</td>\n",
       "      <td>本菜</td>\n",
       "      <td>嘉定区</td>\n",
       "      <td>69</td>\n",
       "      <td>8.2</td>\n",
       "      <td>8.9</td>\n",
       "      <td>8.4</td>\n",
       "      <td>66</td>\n",
       "      <td>上海市</td>\n",
       "      <td>121.925866</td>\n",
       "      <td>30.906384</td>\n",
       "    </tr>\n",
       "    <tr>\n",
       "      <td>7</td>\n",
       "      <td>浙菜</td>\n",
       "      <td>浦东新区</td>\n",
       "      <td>21</td>\n",
       "      <td>7.0</td>\n",
       "      <td>7.0</td>\n",
       "      <td>6.9</td>\n",
       "      <td>146</td>\n",
       "      <td>上海市</td>\n",
       "      <td>121.923567</td>\n",
       "      <td>30.900464</td>\n",
       "    </tr>\n",
       "    <tr>\n",
       "      <td>8</td>\n",
       "      <td>海鲜</td>\n",
       "      <td>浦东新区</td>\n",
       "      <td>46</td>\n",
       "      <td>6.1</td>\n",
       "      <td>6.2</td>\n",
       "      <td>6.0</td>\n",
       "      <td>77</td>\n",
       "      <td>上海市</td>\n",
       "      <td>121.922624</td>\n",
       "      <td>30.899486</td>\n",
       "    </tr>\n",
       "    <tr>\n",
       "      <td>9</td>\n",
       "      <td>烧烤</td>\n",
       "      <td>浦东新区</td>\n",
       "      <td>4</td>\n",
       "      <td>6.9</td>\n",
       "      <td>6.9</td>\n",
       "      <td>6.9</td>\n",
       "      <td>0</td>\n",
       "      <td>上海市</td>\n",
       "      <td>121.922592</td>\n",
       "      <td>30.899010</td>\n",
       "    </tr>\n",
       "  </tbody>\n",
       "</table>\n",
       "</div>"
      ],
      "text/plain": [
       "   类别    行政区  点评数   口味   环境   服务  人均消费   城市         Lng        Lat\n",
       "0  烧烤   浦东新区  176  8.0  8.6  7.9   124  上海市  121.967860  30.884477\n",
       "1  美食    闵行区    2  6.1  6.5  6.3     0  上海市  121.967781  30.883818\n",
       "2  粤菜   浦东新区  141  6.7  7.2  6.6   141  上海市  121.933142  30.893224\n",
       "3  海鲜   浦东新区   76  7.2  7.2  7.3   148  上海市  121.926062  30.899868\n",
       "4  烧烤   浦东新区  600  7.2  7.6  7.0   143  上海市  121.925877  30.901100\n",
       "5  本菜    嘉定区   69  8.2  8.9  8.4    66  上海市  121.925866  30.906384\n",
       "6  本菜    嘉定区   69  8.2  8.9  8.4    66  上海市  121.925866  30.906384\n",
       "7  浙菜   浦东新区   21  7.0  7.0  6.9   146  上海市  121.923567  30.900464\n",
       "8  海鲜   浦东新区   46  6.1  6.2  6.0    77  上海市  121.922624  30.899486\n",
       "9  烧烤   浦东新区    4  6.9  6.9  6.9     0  上海市  121.922592  30.899010"
      ]
     },
     "execution_count": 5,
     "metadata": {},
     "output_type": "execute_result"
    }
   ],
   "source": [
    "data.head(10)"
   ]
  },
  {
   "cell_type": "code",
   "execution_count": 6,
   "metadata": {},
   "outputs": [],
   "source": [
    "#数据清洗，清除空值、为0的数据"
   ]
  },
  {
   "cell_type": "code",
   "execution_count": 10,
   "metadata": {},
   "outputs": [
    {
     "data": {
      "text/plain": [
       "283"
      ]
     },
     "execution_count": 10,
     "metadata": {},
     "output_type": "execute_result"
    }
   ],
   "source": [
    "#检查空值数量\n",
    "data.isnull().values.sum() "
   ]
  },
  {
   "cell_type": "code",
   "execution_count": 11,
   "metadata": {},
   "outputs": [],
   "source": [
    "#清除空值\n",
    "#data.fillna() 填充\n",
    "df = data.dropna()"
   ]
  },
  {
   "cell_type": "code",
   "execution_count": 12,
   "metadata": {},
   "outputs": [
    {
     "data": {
      "text/plain": [
       "0"
      ]
     },
     "execution_count": 12,
     "metadata": {},
     "output_type": "execute_result"
    }
   ],
   "source": [
    "#检查清除后的空值数量\n",
    "df.isnull().values.sum()"
   ]
  },
  {
   "cell_type": "code",
   "execution_count": 15,
   "metadata": {},
   "outputs": [
    {
     "data": {
      "text/plain": [
       "Index(['类别', '行政区', '点评数', '口味', '环境', '服务', '人均消费', '城市', 'Lng', 'Lat'], dtype='object')"
      ]
     },
     "execution_count": 15,
     "metadata": {},
     "output_type": "execute_result"
    }
   ],
   "source": [
    "df.columns"
   ]
  },
  {
   "cell_type": "code",
   "execution_count": 16,
   "metadata": {},
   "outputs": [],
   "source": [
    "df  =  df[['类别','口味', '环境', '服务','人均消费']]"
   ]
  },
  {
   "cell_type": "code",
   "execution_count": 19,
   "metadata": {},
   "outputs": [],
   "source": [
    "df = df[(df['口味']>0)&(df['人均消费']>0)]"
   ]
  },
  {
   "cell_type": "code",
   "execution_count": 25,
   "metadata": {},
   "outputs": [
    {
     "name": "stderr",
     "output_type": "stream",
     "text": [
      "/Users/dingxuanlin/opt/anaconda3/lib/python3.7/site-packages/ipykernel_launcher.py:2: SettingWithCopyWarning: \n",
      "A value is trying to be set on a copy of a slice from a DataFrame.\n",
      "Try using .loc[row_indexer,col_indexer] = value instead\n",
      "\n",
      "See the caveats in the documentation: http://pandas.pydata.org/pandas-docs/stable/user_guide/indexing.html#returning-a-view-versus-a-copy\n",
      "  \n"
     ]
    },
    {
     "data": {
      "text/html": [
       "<div>\n",
       "<style scoped>\n",
       "    .dataframe tbody tr th:only-of-type {\n",
       "        vertical-align: middle;\n",
       "    }\n",
       "\n",
       "    .dataframe tbody tr th {\n",
       "        vertical-align: top;\n",
       "    }\n",
       "\n",
       "    .dataframe thead th {\n",
       "        text-align: right;\n",
       "    }\n",
       "</style>\n",
       "<table border=\"1\" class=\"dataframe\">\n",
       "  <thead>\n",
       "    <tr style=\"text-align: right;\">\n",
       "      <th></th>\n",
       "      <th>类别</th>\n",
       "      <th>口味</th>\n",
       "      <th>环境</th>\n",
       "      <th>服务</th>\n",
       "      <th>人均消费</th>\n",
       "      <th>性价比</th>\n",
       "    </tr>\n",
       "  </thead>\n",
       "  <tbody>\n",
       "    <tr>\n",
       "      <td>0</td>\n",
       "      <td>烧烤</td>\n",
       "      <td>8.0</td>\n",
       "      <td>8.6</td>\n",
       "      <td>7.9</td>\n",
       "      <td>124</td>\n",
       "      <td>0.197581</td>\n",
       "    </tr>\n",
       "    <tr>\n",
       "      <td>2</td>\n",
       "      <td>粤菜</td>\n",
       "      <td>6.7</td>\n",
       "      <td>7.2</td>\n",
       "      <td>6.6</td>\n",
       "      <td>141</td>\n",
       "      <td>0.145390</td>\n",
       "    </tr>\n",
       "    <tr>\n",
       "      <td>3</td>\n",
       "      <td>海鲜</td>\n",
       "      <td>7.2</td>\n",
       "      <td>7.2</td>\n",
       "      <td>7.3</td>\n",
       "      <td>148</td>\n",
       "      <td>0.146622</td>\n",
       "    </tr>\n",
       "    <tr>\n",
       "      <td>4</td>\n",
       "      <td>烧烤</td>\n",
       "      <td>7.2</td>\n",
       "      <td>7.6</td>\n",
       "      <td>7.0</td>\n",
       "      <td>143</td>\n",
       "      <td>0.152448</td>\n",
       "    </tr>\n",
       "    <tr>\n",
       "      <td>5</td>\n",
       "      <td>本菜</td>\n",
       "      <td>8.2</td>\n",
       "      <td>8.9</td>\n",
       "      <td>8.4</td>\n",
       "      <td>66</td>\n",
       "      <td>0.386364</td>\n",
       "    </tr>\n",
       "    <tr>\n",
       "      <td>6</td>\n",
       "      <td>本菜</td>\n",
       "      <td>8.2</td>\n",
       "      <td>8.9</td>\n",
       "      <td>8.4</td>\n",
       "      <td>66</td>\n",
       "      <td>0.386364</td>\n",
       "    </tr>\n",
       "    <tr>\n",
       "      <td>7</td>\n",
       "      <td>浙菜</td>\n",
       "      <td>7.0</td>\n",
       "      <td>7.0</td>\n",
       "      <td>6.9</td>\n",
       "      <td>146</td>\n",
       "      <td>0.143151</td>\n",
       "    </tr>\n",
       "    <tr>\n",
       "      <td>8</td>\n",
       "      <td>海鲜</td>\n",
       "      <td>6.1</td>\n",
       "      <td>6.2</td>\n",
       "      <td>6.0</td>\n",
       "      <td>77</td>\n",
       "      <td>0.237662</td>\n",
       "    </tr>\n",
       "    <tr>\n",
       "      <td>10</td>\n",
       "      <td>浙菜</td>\n",
       "      <td>7.1</td>\n",
       "      <td>7.1</td>\n",
       "      <td>7.0</td>\n",
       "      <td>50</td>\n",
       "      <td>0.424000</td>\n",
       "    </tr>\n",
       "    <tr>\n",
       "      <td>11</td>\n",
       "      <td>快餐</td>\n",
       "      <td>6.8</td>\n",
       "      <td>7.0</td>\n",
       "      <td>6.9</td>\n",
       "      <td>31</td>\n",
       "      <td>0.667742</td>\n",
       "    </tr>\n",
       "  </tbody>\n",
       "</table>\n",
       "</div>"
      ],
      "text/plain": [
       "    类别   口味   环境   服务  人均消费       性价比\n",
       "0   烧烤  8.0  8.6  7.9   124  0.197581\n",
       "2   粤菜  6.7  7.2  6.6   141  0.145390\n",
       "3   海鲜  7.2  7.2  7.3   148  0.146622\n",
       "4   烧烤  7.2  7.6  7.0   143  0.152448\n",
       "5   本菜  8.2  8.9  8.4    66  0.386364\n",
       "6   本菜  8.2  8.9  8.4    66  0.386364\n",
       "7   浙菜  7.0  7.0  6.9   146  0.143151\n",
       "8   海鲜  6.1  6.2  6.0    77  0.237662\n",
       "10  浙菜  7.1  7.1  7.0    50  0.424000\n",
       "11  快餐  6.8  7.0  6.9    31  0.667742"
      ]
     },
     "execution_count": 25,
     "metadata": {},
     "output_type": "execute_result"
    }
   ],
   "source": [
    "#计算性价比\n",
    "df['性价比'] = (df['口味'] + df['环境'] + df['服务'])/ df['人均消费']\n",
    "df.head(10)"
   ]
  },
  {
   "cell_type": "code",
   "execution_count": 32,
   "metadata": {},
   "outputs": [
    {
     "data": {
      "text/html": [
       "<div>\n",
       "<style scoped>\n",
       "    .dataframe tbody tr th:only-of-type {\n",
       "        vertical-align: middle;\n",
       "    }\n",
       "\n",
       "    .dataframe tbody tr th {\n",
       "        vertical-align: top;\n",
       "    }\n",
       "\n",
       "    .dataframe thead th {\n",
       "        text-align: right;\n",
       "    }\n",
       "</style>\n",
       "<table border=\"1\" class=\"dataframe\">\n",
       "  <thead>\n",
       "    <tr style=\"text-align: right;\">\n",
       "      <th></th>\n",
       "      <th>口味</th>\n",
       "      <th>环境</th>\n",
       "      <th>服务</th>\n",
       "      <th>人均消费</th>\n",
       "      <th>性价比</th>\n",
       "    </tr>\n",
       "    <tr>\n",
       "      <th>类别</th>\n",
       "      <th></th>\n",
       "      <th></th>\n",
       "      <th></th>\n",
       "      <th></th>\n",
       "      <th></th>\n",
       "    </tr>\n",
       "  </thead>\n",
       "  <tbody>\n",
       "    <tr>\n",
       "      <td>亚菜</td>\n",
       "      <td>7.889937</td>\n",
       "      <td>8.036268</td>\n",
       "      <td>7.918868</td>\n",
       "      <td>101.958071</td>\n",
       "      <td>0.317688</td>\n",
       "    </tr>\n",
       "    <tr>\n",
       "      <td>助餐</td>\n",
       "      <td>7.394745</td>\n",
       "      <td>7.820197</td>\n",
       "      <td>7.672742</td>\n",
       "      <td>141.484401</td>\n",
       "      <td>0.236529</td>\n",
       "    </tr>\n",
       "    <tr>\n",
       "      <td>北菜</td>\n",
       "      <td>7.350125</td>\n",
       "      <td>7.234000</td>\n",
       "      <td>7.255375</td>\n",
       "      <td>50.478750</td>\n",
       "      <td>0.572403</td>\n",
       "    </tr>\n",
       "    <tr>\n",
       "      <td>午茶</td>\n",
       "      <td>7.500000</td>\n",
       "      <td>8.600000</td>\n",
       "      <td>7.700000</td>\n",
       "      <td>150.000000</td>\n",
       "      <td>0.158667</td>\n",
       "    </tr>\n",
       "    <tr>\n",
       "      <td>南菜</td>\n",
       "      <td>7.984874</td>\n",
       "      <td>8.255462</td>\n",
       "      <td>8.131933</td>\n",
       "      <td>91.411765</td>\n",
       "      <td>0.325731</td>\n",
       "    </tr>\n",
       "    <tr>\n",
       "      <td>啡厅</td>\n",
       "      <td>7.630942</td>\n",
       "      <td>7.772727</td>\n",
       "      <td>7.674215</td>\n",
       "      <td>46.251325</td>\n",
       "      <td>0.601575</td>\n",
       "    </tr>\n",
       "    <tr>\n",
       "      <td>川菜</td>\n",
       "      <td>7.489197</td>\n",
       "      <td>7.417549</td>\n",
       "      <td>7.397908</td>\n",
       "      <td>64.149872</td>\n",
       "      <td>0.427701</td>\n",
       "    </tr>\n",
       "    <tr>\n",
       "      <td>州菜</td>\n",
       "      <td>7.772500</td>\n",
       "      <td>7.722500</td>\n",
       "      <td>7.755000</td>\n",
       "      <td>71.125000</td>\n",
       "      <td>0.441502</td>\n",
       "    </tr>\n",
       "    <tr>\n",
       "      <td>常菜</td>\n",
       "      <td>7.311667</td>\n",
       "      <td>7.228333</td>\n",
       "      <td>7.255833</td>\n",
       "      <td>46.258333</td>\n",
       "      <td>0.611388</td>\n",
       "    </tr>\n",
       "    <tr>\n",
       "      <td>快餐</td>\n",
       "      <td>7.361773</td>\n",
       "      <td>7.214516</td>\n",
       "      <td>7.240300</td>\n",
       "      <td>25.995929</td>\n",
       "      <td>1.103387</td>\n",
       "    </tr>\n",
       "    <tr>\n",
       "      <td>料理</td>\n",
       "      <td>7.770436</td>\n",
       "      <td>7.717903</td>\n",
       "      <td>7.807303</td>\n",
       "      <td>76.457008</td>\n",
       "      <td>0.403445</td>\n",
       "    </tr>\n",
       "    <tr>\n",
       "      <td>本菜</td>\n",
       "      <td>7.959824</td>\n",
       "      <td>7.967984</td>\n",
       "      <td>7.976948</td>\n",
       "      <td>155.530553</td>\n",
       "      <td>0.287742</td>\n",
       "    </tr>\n",
       "    <tr>\n",
       "      <td>浙菜</td>\n",
       "      <td>7.503864</td>\n",
       "      <td>7.432664</td>\n",
       "      <td>7.323390</td>\n",
       "      <td>102.991499</td>\n",
       "      <td>0.336250</td>\n",
       "    </tr>\n",
       "    <tr>\n",
       "      <td>海鲜</td>\n",
       "      <td>7.693175</td>\n",
       "      <td>7.513452</td>\n",
       "      <td>7.534817</td>\n",
       "      <td>129.958457</td>\n",
       "      <td>0.269551</td>\n",
       "    </tr>\n",
       "    <tr>\n",
       "      <td>湘菜</td>\n",
       "      <td>7.353606</td>\n",
       "      <td>7.252853</td>\n",
       "      <td>7.237783</td>\n",
       "      <td>59.057051</td>\n",
       "      <td>0.482153</td>\n",
       "    </tr>\n",
       "    <tr>\n",
       "      <td>湾菜</td>\n",
       "      <td>7.607396</td>\n",
       "      <td>7.675148</td>\n",
       "      <td>7.623373</td>\n",
       "      <td>84.819527</td>\n",
       "      <td>0.474099</td>\n",
       "    </tr>\n",
       "    <tr>\n",
       "      <td>火锅</td>\n",
       "      <td>7.949428</td>\n",
       "      <td>7.823136</td>\n",
       "      <td>7.841448</td>\n",
       "      <td>108.606867</td>\n",
       "      <td>0.282454</td>\n",
       "    </tr>\n",
       "    <tr>\n",
       "      <td>烧烤</td>\n",
       "      <td>7.601964</td>\n",
       "      <td>7.442649</td>\n",
       "      <td>7.544613</td>\n",
       "      <td>80.174523</td>\n",
       "      <td>0.434532</td>\n",
       "    </tr>\n",
       "    <tr>\n",
       "      <td>甜点</td>\n",
       "      <td>7.524436</td>\n",
       "      <td>7.518232</td>\n",
       "      <td>7.478137</td>\n",
       "      <td>33.341874</td>\n",
       "      <td>1.089495</td>\n",
       "    </tr>\n",
       "    <tr>\n",
       "      <td>疆菜</td>\n",
       "      <td>7.791221</td>\n",
       "      <td>7.645420</td>\n",
       "      <td>7.651908</td>\n",
       "      <td>59.610687</td>\n",
       "      <td>0.611234</td>\n",
       "    </tr>\n",
       "    <tr>\n",
       "      <td>粤菜</td>\n",
       "      <td>7.635520</td>\n",
       "      <td>7.712235</td>\n",
       "      <td>7.524272</td>\n",
       "      <td>129.714356</td>\n",
       "      <td>0.333748</td>\n",
       "    </tr>\n",
       "    <tr>\n",
       "      <td>素菜</td>\n",
       "      <td>8.021705</td>\n",
       "      <td>8.057364</td>\n",
       "      <td>8.093023</td>\n",
       "      <td>78.658915</td>\n",
       "      <td>0.497415</td>\n",
       "    </tr>\n",
       "    <tr>\n",
       "      <td>美食</td>\n",
       "      <td>7.469031</td>\n",
       "      <td>7.457806</td>\n",
       "      <td>7.420765</td>\n",
       "      <td>84.370408</td>\n",
       "      <td>0.626926</td>\n",
       "    </tr>\n",
       "    <tr>\n",
       "      <td>蟹宴</td>\n",
       "      <td>7.873469</td>\n",
       "      <td>7.748299</td>\n",
       "      <td>7.759864</td>\n",
       "      <td>237.945578</td>\n",
       "      <td>0.180064</td>\n",
       "    </tr>\n",
       "    <tr>\n",
       "      <td>西菜</td>\n",
       "      <td>7.541071</td>\n",
       "      <td>7.492857</td>\n",
       "      <td>7.376786</td>\n",
       "      <td>67.339286</td>\n",
       "      <td>0.462461</td>\n",
       "    </tr>\n",
       "    <tr>\n",
       "      <td>西餐</td>\n",
       "      <td>7.853583</td>\n",
       "      <td>8.089241</td>\n",
       "      <td>7.920977</td>\n",
       "      <td>128.028395</td>\n",
       "      <td>0.367199</td>\n",
       "    </tr>\n",
       "    <tr>\n",
       "      <td>面馆</td>\n",
       "      <td>7.505263</td>\n",
       "      <td>7.218421</td>\n",
       "      <td>7.281579</td>\n",
       "      <td>27.947368</td>\n",
       "      <td>0.921746</td>\n",
       "    </tr>\n",
       "    <tr>\n",
       "      <td>龙虾</td>\n",
       "      <td>7.508283</td>\n",
       "      <td>7.181777</td>\n",
       "      <td>7.342470</td>\n",
       "      <td>97.376506</td>\n",
       "      <td>0.285653</td>\n",
       "    </tr>\n",
       "  </tbody>\n",
       "</table>\n",
       "</div>"
      ],
      "text/plain": [
       "          口味        环境        服务        人均消费       性价比\n",
       "类别                                                    \n",
       "亚菜  7.889937  8.036268  7.918868  101.958071  0.317688\n",
       "助餐  7.394745  7.820197  7.672742  141.484401  0.236529\n",
       "北菜  7.350125  7.234000  7.255375   50.478750  0.572403\n",
       "午茶  7.500000  8.600000  7.700000  150.000000  0.158667\n",
       "南菜  7.984874  8.255462  8.131933   91.411765  0.325731\n",
       "啡厅  7.630942  7.772727  7.674215   46.251325  0.601575\n",
       "川菜  7.489197  7.417549  7.397908   64.149872  0.427701\n",
       "州菜  7.772500  7.722500  7.755000   71.125000  0.441502\n",
       "常菜  7.311667  7.228333  7.255833   46.258333  0.611388\n",
       "快餐  7.361773  7.214516  7.240300   25.995929  1.103387\n",
       "料理  7.770436  7.717903  7.807303   76.457008  0.403445\n",
       "本菜  7.959824  7.967984  7.976948  155.530553  0.287742\n",
       "浙菜  7.503864  7.432664  7.323390  102.991499  0.336250\n",
       "海鲜  7.693175  7.513452  7.534817  129.958457  0.269551\n",
       "湘菜  7.353606  7.252853  7.237783   59.057051  0.482153\n",
       "湾菜  7.607396  7.675148  7.623373   84.819527  0.474099\n",
       "火锅  7.949428  7.823136  7.841448  108.606867  0.282454\n",
       "烧烤  7.601964  7.442649  7.544613   80.174523  0.434532\n",
       "甜点  7.524436  7.518232  7.478137   33.341874  1.089495\n",
       "疆菜  7.791221  7.645420  7.651908   59.610687  0.611234\n",
       "粤菜  7.635520  7.712235  7.524272  129.714356  0.333748\n",
       "素菜  8.021705  8.057364  8.093023   78.658915  0.497415\n",
       "美食  7.469031  7.457806  7.420765   84.370408  0.626926\n",
       "蟹宴  7.873469  7.748299  7.759864  237.945578  0.180064\n",
       "西菜  7.541071  7.492857  7.376786   67.339286  0.462461\n",
       "西餐  7.853583  8.089241  7.920977  128.028395  0.367199\n",
       "面馆  7.505263  7.218421  7.281579   27.947368  0.921746\n",
       "龙虾  7.508283  7.181777  7.342470   97.376506  0.285653"
      ]
     },
     "execution_count": 32,
     "metadata": {},
     "output_type": "execute_result"
    }
   ],
   "source": [
    "#分类别计算\n",
    "df_groupby = df.groupby('类别').mean()\n",
    "df_groupby"
   ]
  },
  {
   "cell_type": "code",
   "execution_count": 43,
   "metadata": {},
   "outputs": [
    {
     "data": {
      "text/plain": [
       "<matplotlib.axes._subplots.AxesSubplot at 0x12f24c410>"
      ]
     },
     "execution_count": 43,
     "metadata": {},
     "output_type": "execute_result"
    },
    {
     "data": {
      "image/png": "[encoded data removed]",
      "text/plain": [
       "<Figure size 720x288 with 3 Axes>"
      ]
     },
     "metadata": {
      "needs_background": "light"
     },
     "output_type": "display_data"
    }
   ],
   "source": [
    "#箱型图查异常值\n",
    "fig,axes = plt.subplots(1,3,figsize = (10,4))\n",
    "df_groupby.boxplot(column = ['口味'], ax = axes[0])\n",
    "df_groupby.boxplot(column = ['人均消费'], ax = axes[1])\n",
    "df_groupby.boxplot(column = ['性价比'], ax = axes[2])"
   ]
  },
  {
   "cell_type": "code",
   "execution_count": 54,
   "metadata": {},
   "outputs": [],
   "source": [
    "def f(data,col):\n",
    "    q1 = data[col].quantile(q = 0.25)\n",
    "    q3 = data[col].quantile(q = 0.75)\n",
    "    iqr = q3 - q1\n",
    "    t1 = q1 - 3*iqr\n",
    "    t2 = q3 + 3*iqr\n",
    "    return data[(data[col]>t1)&(data[col]<t2)][[col]]"
   ]
  },
  {
   "cell_type": "code",
   "execution_count": 55,
   "metadata": {},
   "outputs": [],
   "source": [
    "data_kw = f(df_groupby,'口味')\n",
    "data_rj = f(df_groupby,'人均消费')\n",
    "data_xjb = f(df_groupby,'性价比')"
   ]
  },
  {
   "cell_type": "code",
   "execution_count": 63,
   "metadata": {},
   "outputs": [
    {
     "data": {
      "text/plain": [
       "<matplotlib.axes._subplots.AxesSubplot at 0x1300b4990>"
      ]
     },
     "execution_count": 63,
     "metadata": {},
     "output_type": "execute_result"
    },
    {
     "data": {
      "image/png": "[encoded data removed]",
      "text/plain": [
       "<Figure size 1440x576 with 1 Axes>"
      ]
     },
     "metadata": {
      "needs_background": "light"
     },
     "output_type": "display_data"
    }
   ],
   "source": [
    "data_xjb.plot(kind='bar',\n",
    "              figsize=(20,8),\n",
    "              color = 'r',\n",
    "              alpha = 0.8,\n",
    "              grid = True,\n",
    "              rot = 0,\n",
    "             title='性价比图表')"
   ]
  },
  {
   "cell_type": "code",
   "execution_count": 65,
   "metadata": {},
   "outputs": [
    {
     "data": {
      "text/plain": [
       "<matplotlib.axes._subplots.AxesSubplot at 0x13065f4d0>"
      ]
     },
     "execution_count": 65,
     "metadata": {},
     "output_type": "execute_result"
    },
    {
     "data": {
      "image/png": "[encoded data removed]",
      "text/plain": [
       "<Figure size 1440x576 with 1 Axes>"
      ]
     },
     "metadata": {
      "needs_background": "light"
     },
     "output_type": "display_data"
    }
   ],
   "source": [
    "data_kw.plot(kind='bar',\n",
    "              figsize=(20,8),\n",
    "              color = 'g',\n",
    "              alpha = 0.8,\n",
    "              grid = True,\n",
    "              rot = 0,\n",
    "             title='口味图表')"
   ]
  },
  {
   "cell_type": "code",
   "execution_count": 66,
   "metadata": {},
   "outputs": [
    {
     "data": {
      "text/plain": [
       "<matplotlib.axes._subplots.AxesSubplot at 0x130a24c90>"
      ]
     },
     "execution_count": 66,
     "metadata": {},
     "output_type": "execute_result"
    },
    {
     "data": {
      "image/png": "[encoded data removed]",
      "text/plain": [
       "<Figure size 1440x576 with 1 Axes>"
      ]
     },
     "metadata": {
      "needs_background": "light"
     },
     "output_type": "display_data"
    }
   ],
   "source": [
    "data_rj.plot(kind='bar',\n",
    "              figsize=(20,8),\n",
    "              color = 'b',\n",
    "              alpha = 0.8,\n",
    "              grid = True,\n",
    "              rot = 0,\n",
    "             title='人均消费图表')"
   ]
  },
  {
   "cell_type": "code",
   "execution_count": 87,
   "metadata": {},
   "outputs": [
    {
     "data": {
      "text/plain": [
       "<matplotlib.axes._subplots.AxesSubplot at 0x12e502cd0>"
      ]
     },
     "execution_count": 87,
     "metadata": {},
     "output_type": "execute_result"
    },
    {
     "data": {
      "image/png": "[encoded data removed]",
      "text/plain": [
       "<Figure size 1440x720 with 3 Axes>"
      ]
     },
     "metadata": {
      "needs_background": "light"
     },
     "output_type": "display_data"
    }
   ],
   "source": [
    "fig,axes = plt.subplots(3,1,figsize = (20,10))\n",
    "data_kw.plot(kind='bar',ax=axes[0],color = 'b',rot=0)\n",
    "data_rj.plot(kind='bar',ax=axes[1],color = 'g',rot=0)\n",
    "data_xjb.plot(kind='bar',ax=axes[2],color = 'r',rot=0)"
   ]
  },
  {
   "cell_type": "code",
   "execution_count": 93,
   "metadata": {},
   "outputs": [],
   "source": [
    "#标准化处理\n",
    "data_kw_max_min = (data_kw - data_kw.min())/(data_kw.max()- data_kw.min())\n",
    "data_rj_max_min = (data_rj - data_rj.min())/(data_rj.max()- data_rj.min())\n",
    "data_xjb_max_min = (data_xjb - data_xjb.min())/(data_xjb.max()- data_xjb.min())"
   ]
  },
  {
   "cell_type": "code",
   "execution_count": 95,
   "metadata": {},
   "outputs": [
    {
     "data": {
      "text/plain": [
       "<matplotlib.axes._subplots.AxesSubplot at 0x12ee1f610>"
      ]
     },
     "execution_count": 95,
     "metadata": {},
     "output_type": "execute_result"
    },
    {
     "data": {
      "image/png": "[encoded data removed]",
      "text/plain": [
       "<Figure size 1440x720 with 3 Axes>"
      ]
     },
     "metadata": {
      "needs_background": "light"
     },
     "output_type": "display_data"
    }
   ],
   "source": [
    "fig,axes = plt.subplots(3,1,figsize = (20,10))\n",
    "data_kw_max_min.plot(kind='bar',ax=axes[0],color = 'b',rot=0,grid=True)\n",
    "data_rj_max_min.plot(kind='bar',ax=axes[1],color = 'g',rot=0,grid=True)\n",
    "data_xjb_max_min.plot(kind='bar',ax=axes[2],color = 'r',rot=0,grid=True)"
   ]
  },
  {
   "cell_type": "code",
   "execution_count": 108,
   "metadata": {},
   "outputs": [],
   "source": [
    "#选择一个好的行业  权重自己设计  比如按照 口味:人均消费:性价比  = 2:3:5 的比例去计算 "
   ]
  },
  {
   "cell_type": "code",
   "execution_count": 120,
   "metadata": {},
   "outputs": [],
   "source": [
    "data = pd.merge(data_kw_max_min,data_rj_max_min,left_index = True, right_index = True)\n",
    "data = pd.merge(data,data_xjb_max_min,left_index = True, right_index = True)"
   ]
  },
  {
   "cell_type": "code",
   "execution_count": 143,
   "metadata": {},
   "outputs": [
    {
     "data": {
      "text/html": [
       "<div>\n",
       "<style scoped>\n",
       "    .dataframe tbody tr th:only-of-type {\n",
       "        vertical-align: middle;\n",
       "    }\n",
       "\n",
       "    .dataframe tbody tr th {\n",
       "        vertical-align: top;\n",
       "    }\n",
       "\n",
       "    .dataframe thead th {\n",
       "        text-align: right;\n",
       "    }\n",
       "</style>\n",
       "<table border=\"1\" class=\"dataframe\">\n",
       "  <thead>\n",
       "    <tr style=\"text-align: right;\">\n",
       "      <th></th>\n",
       "      <th>口味</th>\n",
       "      <th>人均消费</th>\n",
       "      <th>性价比</th>\n",
       "      <th>分数</th>\n",
       "    </tr>\n",
       "    <tr>\n",
       "      <th>类别</th>\n",
       "      <th></th>\n",
       "      <th></th>\n",
       "      <th></th>\n",
       "      <th></th>\n",
       "    </tr>\n",
       "  </thead>\n",
       "  <tbody>\n",
       "    <tr>\n",
       "      <td>甜点</td>\n",
       "      <td>0.299659</td>\n",
       "      <td>0.034659</td>\n",
       "      <td>0.985296</td>\n",
       "      <td>0.562977</td>\n",
       "    </tr>\n",
       "    <tr>\n",
       "      <td>快餐</td>\n",
       "      <td>0.070568</td>\n",
       "      <td>0.000000</td>\n",
       "      <td>1.000000</td>\n",
       "      <td>0.514114</td>\n",
       "    </tr>\n",
       "    <tr>\n",
       "      <td>蟹宴</td>\n",
       "      <td>0.791228</td>\n",
       "      <td>1.000000</td>\n",
       "      <td>0.022649</td>\n",
       "      <td>0.469570</td>\n",
       "    </tr>\n",
       "    <tr>\n",
       "      <td>面馆</td>\n",
       "      <td>0.272656</td>\n",
       "      <td>0.009207</td>\n",
       "      <td>0.807730</td>\n",
       "      <td>0.461159</td>\n",
       "    </tr>\n",
       "    <tr>\n",
       "      <td>素菜</td>\n",
       "      <td>1.000000</td>\n",
       "      <td>0.248469</td>\n",
       "      <td>0.358570</td>\n",
       "      <td>0.453826</td>\n",
       "    </tr>\n",
       "  </tbody>\n",
       "</table>\n",
       "</div>"
      ],
      "text/plain": [
       "          口味      人均消费       性价比        分数\n",
       "类别                                        \n",
       "甜点  0.299659  0.034659  0.985296  0.562977\n",
       "快餐  0.070568  0.000000  1.000000  0.514114\n",
       "蟹宴  0.791228  1.000000  0.022649  0.469570\n",
       "面馆  0.272656  0.009207  0.807730  0.461159\n",
       "素菜  1.000000  0.248469  0.358570  0.453826"
      ]
     },
     "execution_count": 143,
     "metadata": {},
     "output_type": "execute_result"
    }
   ],
   "source": [
    "data['分数'] = 0.2*data['口味'] + 0.3*data['人均消费']+0.5*data['性价比']\n",
    "data.sort_values('分数',ascending=False)[:5]"
   ]
  },
  {
   "cell_type": "code",
   "execution_count": 144,
   "metadata": {},
   "outputs": [],
   "source": [
    "#得出结论 我要在上海这个地方选择开甜品店"
   ]
  },
  {
   "cell_type": "code",
   "execution_count": null,
   "metadata": {},
   "outputs": [],
   "source": []
  }
 ],
 "metadata": {
  "kernelspec": {
   "display_name": "Python 3",
   "language": "python",
   "name": "python3"
  },
  "language_info": {
   "codemirror_mode": {
    "name": "ipython",
    "version": 3
   },
   "file_extension": ".py",
   "mimetype": "text/x-python",
   "name": "python",
   "nbconvert_exporter": "python",
   "pygments_lexer": "ipython3",
   "version": "3.7.4"
  }
 },
 "nbformat": 4,
 "nbformat_minor": 2
}
